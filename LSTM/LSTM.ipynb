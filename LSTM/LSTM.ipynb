{
  "nbformat": 4,
  "nbformat_minor": 0,
  "metadata": {
    "colab": {
      "name": "LSTM",
      "provenance": [],
      "collapsed_sections": []
    },
    "kernelspec": {
      "name": "python3",
      "display_name": "Python 3"
    },
    "accelerator": "GPU"
  },
  "cells": [
    {
      "cell_type": "code",
      "metadata": {
        "id": "kT7WNQY4WJ5U",
        "colab_type": "code",
        "colab": {
          "base_uri": "https://localhost:8080/",
          "height": 204
        },
        "outputId": "142a57a7-fdca-4a7d-e216-1e82b7395f25"
      },
      "source": [
        "#For preprocess\n",
        "from nltk.stem import WordNetLemmatizer\n",
        "from nltk import word_tokenize\n",
        "from nltk.tokenize import RegexpTokenizer\n",
        "from nltk.corpus import stopwords\n",
        "import string\n",
        "from string import punctuation\n",
        "import re\n",
        "import numpy as np\n",
        "import nltk\n",
        "nltk.download('stopwords')\n",
        "nltk.download('wordnet')\n",
        "nltk.download('punkt')\n",
        "nltk.download('averaged_perceptron_tagger')\n",
        "nltk.download('words')\n",
        "\n",
        "from collections import Counter\n",
        "from sklearn.feature_extraction.text import CountVectorizer\n",
        "import pandas as pd\n",
        "import gensim\n",
        "from IPython.display import display, HTML\n",
        "from nltk.corpus import wordnet\n",
        "\n",
        "#Keras\n",
        "from keras.preprocessing import sequence\n",
        "from keras.models import Sequential\n",
        "from keras.layers import Dense, Embedding\n",
        "from keras.layers import LSTM\n",
        "from keras.layers import SpatialDropout1D\n"
      ],
      "execution_count": null,
      "outputs": [
        {
          "output_type": "stream",
          "text": [
            "[nltk_data] Downloading package stopwords to /root/nltk_data...\n",
            "[nltk_data]   Unzipping corpora/stopwords.zip.\n",
            "[nltk_data] Downloading package wordnet to /root/nltk_data...\n",
            "[nltk_data]   Unzipping corpora/wordnet.zip.\n",
            "[nltk_data] Downloading package punkt to /root/nltk_data...\n",
            "[nltk_data]   Unzipping tokenizers/punkt.zip.\n",
            "[nltk_data] Downloading package averaged_perceptron_tagger to\n",
            "[nltk_data]     /root/nltk_data...\n",
            "[nltk_data]   Unzipping taggers/averaged_perceptron_tagger.zip.\n",
            "[nltk_data] Downloading package words to /root/nltk_data...\n",
            "[nltk_data]   Unzipping corpora/words.zip.\n"
          ],
          "name": "stdout"
        }
      ]
    },
    {
      "cell_type": "markdown",
      "metadata": {
        "id": "EvYtURAFabAe",
        "colab_type": "text"
      },
      "source": [
        " **Load data file**"
      ]
    },
    {
      "cell_type": "code",
      "metadata": {
        "id": "RdYjfGk3T62X",
        "colab_type": "code",
        "colab": {}
      },
      "source": [
        "filepath = \"topic_with_sentiment.csv\""
      ],
      "execution_count": null,
      "outputs": []
    },
    {
      "cell_type": "code",
      "metadata": {
        "id": "oa0XOIWwZ9Qq",
        "colab_type": "code",
        "colab": {}
      },
      "source": [
        "data = pd.read_csv(filepath, sep=\",\", error_bad_lines=False, encoding='latin-1')"
      ],
      "execution_count": null,
      "outputs": []
    },
    {
      "cell_type": "code",
      "metadata": {
        "id": "vPhmGDFzaNjt",
        "colab_type": "code",
        "colab": {
          "base_uri": "https://localhost:8080/",
          "height": 204
        },
        "outputId": "f0d7699a-b78e-4df3-8433-04adf9dcd7a8"
      },
      "source": [
        "data.head()"
      ],
      "execution_count": null,
      "outputs": [
        {
          "output_type": "execute_result",
          "data": {
            "text/html": [
              "<div>\n",
              "<style scoped>\n",
              "    .dataframe tbody tr th:only-of-type {\n",
              "        vertical-align: middle;\n",
              "    }\n",
              "\n",
              "    .dataframe tbody tr th {\n",
              "        vertical-align: top;\n",
              "    }\n",
              "\n",
              "    .dataframe thead th {\n",
              "        text-align: right;\n",
              "    }\n",
              "</style>\n",
              "<table border=\"1\" class=\"dataframe\">\n",
              "  <thead>\n",
              "    <tr style=\"text-align: right;\">\n",
              "      <th></th>\n",
              "      <th>Text</th>\n",
              "      <th>Topic_assigned</th>\n",
              "      <th>Topic_Percentage</th>\n",
              "      <th>Ground_Truth</th>\n",
              "      <th>Ground_Truth_Sentiment</th>\n",
              "    </tr>\n",
              "  </thead>\n",
              "  <tbody>\n",
              "    <tr>\n",
              "      <th>0</th>\n",
              "      <td>pleasure ing 7 night recently perfect every wa...</td>\n",
              "      <td>Service</td>\n",
              "      <td>0.2340</td>\n",
              "      <td>Facilities  Comfort Food  Staff Location Service</td>\n",
              "      <td>5</td>\n",
              "    </tr>\n",
              "    <tr>\n",
              "      <th>1</th>\n",
              "      <td>lovely first visit iconic bar wonderful servic...</td>\n",
              "      <td>Service</td>\n",
              "      <td>0.2886</td>\n",
              "      <td>Food Price   Service</td>\n",
              "      <td>5</td>\n",
              "    </tr>\n",
              "    <tr>\n",
              "      <th>2</th>\n",
              "      <td>3 u ed rhodes_hotel 4 night location take padd...</td>\n",
              "      <td>Price</td>\n",
              "      <td>0.1645</td>\n",
              "      <td>Facilities Cleanliness    Staff Location</td>\n",
              "      <td>4</td>\n",
              "    </tr>\n",
              "    <tr>\n",
              "      <th>3</th>\n",
              "      <td>form moment_arrive left experienced absolute_p...</td>\n",
              "      <td>Service</td>\n",
              "      <td>0.2637</td>\n",
              "      <td>Food  Staff  Service</td>\n",
              "      <td>5</td>\n",
              "    </tr>\n",
              "    <tr>\n",
              "      <th>4</th>\n",
              "      <td>well strange 5star new come along eager try he...</td>\n",
              "      <td>Staff</td>\n",
              "      <td>0.2831</td>\n",
              "      <td>Facilities Cleanliness  Food Price Staff  Service</td>\n",
              "      <td>1</td>\n",
              "    </tr>\n",
              "  </tbody>\n",
              "</table>\n",
              "</div>"
            ],
            "text/plain": [
              "                                                Text  ... Ground_Truth_Sentiment\n",
              "0  pleasure ing 7 night recently perfect every wa...  ...                      5\n",
              "1  lovely first visit iconic bar wonderful servic...  ...                      5\n",
              "2  3 u ed rhodes_hotel 4 night location take padd...  ...                      4\n",
              "3  form moment_arrive left experienced absolute_p...  ...                      5\n",
              "4  well strange 5star new come along eager try he...  ...                      1\n",
              "\n",
              "[5 rows x 5 columns]"
            ]
          },
          "metadata": {
            "tags": []
          },
          "execution_count": 7
        }
      ]
    },
    {
      "cell_type": "markdown",
      "metadata": {
        "id": "fagT0kUYan51",
        "colab_type": "text"
      },
      "source": [
        "**Preprocess**"
      ]
    },
    {
      "cell_type": "code",
      "metadata": {
        "id": "ScfNE1YJW_oW",
        "colab_type": "code",
        "colab": {}
      },
      "source": [
        "def preprocess(text):\n",
        "\n",
        "    #tokenizer = RegexpTokenizer(r'\\w+')\n",
        "    #for t in text:\n",
        "    #    tokenizer.tokenize(t)\n",
        "\n",
        "    #tokenizing\n",
        "    for sent in text:\n",
        "        yield(gensim.utils.simple_preprocess(str(sent), deacc=True))\n",
        "\n",
        "\n",
        "    # lowercasing\n",
        "    text = [str(t).lower() for t in text]\n",
        "\n",
        "    text = [t for t in text if t.isalpha()]\n",
        "    \n",
        "    #table = str.maketrans('', '', string.punctuation)\n",
        "    #stripped = [t.translate(table) for t in text]\n",
        "\n",
        "\n",
        "    def get_wordnet_pos(word):\n",
        "        tag = nltk.pos_tag([word])[0][1][0].upper()\n",
        "        tag_dict = {\"J\": wordnet.ADJ,\n",
        "                \"N\": wordnet.NOUN,\n",
        "                \"V\": wordnet.VERB,\n",
        "                \"R\": wordnet.ADV}\n",
        "\n",
        "        return tag_dict.get(tag, wordnet.NOUN)\n",
        "\n",
        "    # lemmatisation\n",
        "    lemmatiser = WordNetLemmatizer()\n",
        "    text = [lemmatiser.lemmatize(t) for t in text]\n",
        "    #, get_wordnet_pos(t)\n",
        "\n",
        "    # remove numbers and empty space\n",
        "    digits = ' 0123456789'\n",
        "    text = [t for t in text if t not in digits]\n",
        "\n",
        "    return text"
      ],
      "execution_count": null,
      "outputs": []
    },
    {
      "cell_type": "code",
      "metadata": {
        "id": "TDCOqXzXktGm",
        "colab_type": "code",
        "colab": {}
      },
      "source": [
        "def preProcess(text):\n",
        "    # should return a list of tokens\n",
        "    \n",
        "    # word tokenisation, including punctuation removal\n",
        "    tokenizer = RegexpTokenizer(r'\\w+')\n",
        "    tokens = tokenizer.tokenize(text)\n",
        "    \n",
        "    # lowercasing\n",
        "    tokens = [t.lower() for t in tokens]\n",
        "\n",
        "    # stopword removal- benefits are it removes rare words, though bad for bigram relations\n",
        "    stop = set(stopwords.words('english'))\n",
        "    tokens = [t for t in tokens if t not in stop]\n",
        "    \n",
        "    # lemmatisation\n",
        "    lemmatiser = WordNetLemmatizer()\n",
        "    tokens = [lemmatiser.lemmatize(t) for t in tokens]\n",
        "    tokens = [t for t in tokens if t] # ensure no empty space\n",
        "\n",
        "    # remove numbers\n",
        "    digits = '0123456789'\n",
        "    text = [t for t in text if t not in digits]\n",
        "    \n",
        "    return tokens"
      ],
      "execution_count": null,
      "outputs": []
    },
    {
      "cell_type": "code",
      "metadata": {
        "id": "vCS-Lv5Z15Vs",
        "colab_type": "code",
        "colab": {}
      },
      "source": [
        "def create_bigrams(words):\n",
        "    bigram = gensim.models.Phrases(words, min_count=2, threshold=30)\n",
        "    bigram_mod = gensim.models.phrases.Phraser(bigram)\n",
        "    return bigram_mod"
      ],
      "execution_count": null,
      "outputs": []
    },
    {
      "cell_type": "markdown",
      "metadata": {
        "id": "8F6qQGApawv-",
        "colab_type": "text"
      },
      "source": [
        "**Prepare data to train**"
      ]
    },
    {
      "cell_type": "code",
      "metadata": {
        "id": "DBmi8eItjnX4",
        "colab_type": "code",
        "colab": {}
      },
      "source": [
        "topic = ['Staff, Location', \n",
        "         'Location', \n",
        "         'Comfort, Clealiness', \n",
        "         'Facilities', \n",
        "         'Location, Food', \n",
        "         'Food',\n",
        "         'Staff', \n",
        "         'Service', \n",
        "         'Price']"
      ],
      "execution_count": null,
      "outputs": []
    },
    {
      "cell_type": "code",
      "metadata": {
        "id": "l50tVrvKRLex",
        "colab_type": "code",
        "colab": {}
      },
      "source": [
        "subgroup = data[data.Topic_assigned == topic[0]]"
      ],
      "execution_count": null,
      "outputs": []
    },
    {
      "cell_type": "code",
      "metadata": {
        "id": "ysKdULfYRRPi",
        "colab_type": "code",
        "colab": {
          "base_uri": "https://localhost:8080/",
          "height": 204
        },
        "outputId": "bcfcf894-643f-41d1-956b-0d0e052b9e0b"
      },
      "source": [
        "subgroup.head()"
      ],
      "execution_count": null,
      "outputs": [
        {
          "output_type": "execute_result",
          "data": {
            "text/html": [
              "<div>\n",
              "<style scoped>\n",
              "    .dataframe tbody tr th:only-of-type {\n",
              "        vertical-align: middle;\n",
              "    }\n",
              "\n",
              "    .dataframe tbody tr th {\n",
              "        vertical-align: top;\n",
              "    }\n",
              "\n",
              "    .dataframe thead th {\n",
              "        text-align: right;\n",
              "    }\n",
              "</style>\n",
              "<table border=\"1\" class=\"dataframe\">\n",
              "  <thead>\n",
              "    <tr style=\"text-align: right;\">\n",
              "      <th></th>\n",
              "      <th>Text</th>\n",
              "      <th>Topic_assigned</th>\n",
              "      <th>Topic_Percentage</th>\n",
              "      <th>Ground_Truth</th>\n",
              "      <th>Ground_Truth_Sentiment</th>\n",
              "    </tr>\n",
              "  </thead>\n",
              "  <tbody>\n",
              "    <tr>\n",
              "      <th>23</th>\n",
              "      <td>family trip ing business district location con...</td>\n",
              "      <td>Staff, Location</td>\n",
              "      <td>0.1467</td>\n",
              "      <td>Facilities Cleanliness  Food  Staff Location</td>\n",
              "      <td>4</td>\n",
              "    </tr>\n",
              "    <tr>\n",
              "      <th>36</th>\n",
              "      <td>host help every aspect way place nice clean va...</td>\n",
              "      <td>Staff, Location</td>\n",
              "      <td>0.1315</td>\n",
              "      <td>Cleanliness   Price Staff</td>\n",
              "      <td>5</td>\n",
              "    </tr>\n",
              "    <tr>\n",
              "      <th>39</th>\n",
              "      <td>cosy small read tiny modern spotlessly clean l...</td>\n",
              "      <td>Staff, Location</td>\n",
              "      <td>0.1435</td>\n",
              "      <td>Facilities Cleanliness Comfort Food  Staff Loc...</td>\n",
              "      <td>4</td>\n",
              "    </tr>\n",
              "    <tr>\n",
              "      <th>81</th>\n",
              "      <td>friendly attentive personal service staff exce...</td>\n",
              "      <td>Staff, Location</td>\n",
              "      <td>0.1434</td>\n",
              "      <td>Facilities   Food  Staff  Service</td>\n",
              "      <td>5</td>\n",
              "    </tr>\n",
              "    <tr>\n",
              "      <th>108</th>\n",
              "      <td>good customer service comfortable amenity big ...</td>\n",
              "      <td>Staff, Location</td>\n",
              "      <td>0.1472</td>\n",
              "      <td>Facilities  Comfort Food  Staff  Service</td>\n",
              "      <td>5</td>\n",
              "    </tr>\n",
              "  </tbody>\n",
              "</table>\n",
              "</div>"
            ],
            "text/plain": [
              "                                                  Text  ... Ground_Truth_Sentiment\n",
              "23   family trip ing business district location con...  ...                      4\n",
              "36   host help every aspect way place nice clean va...  ...                      5\n",
              "39   cosy small read tiny modern spotlessly clean l...  ...                      4\n",
              "81   friendly attentive personal service staff exce...  ...                      5\n",
              "108  good customer service comfortable amenity big ...  ...                      5\n",
              "\n",
              "[5 rows x 5 columns]"
            ]
          },
          "metadata": {
            "tags": []
          },
          "execution_count": 12
        }
      ]
    },
    {
      "cell_type": "markdown",
      "metadata": {
        "id": "VDdm1R12eD1F",
        "colab_type": "text"
      },
      "source": [
        "Cleaning data (remove minor reviews, replace 5 labels with 3 labels)"
      ]
    },
    {
      "cell_type": "code",
      "metadata": {
        "id": "YdPcREUfMf32",
        "colab_type": "code",
        "colab": {}
      },
      "source": [
        "subgroup = subgroup[subgroup.Ground_Truth_Sentiment != 0]\n",
        "subgroup = subgroup[subgroup.Ground_Truth_Sentiment != 6]\n",
        "subgroup = subgroup[subgroup.Ground_Truth_Sentiment != 7]\n",
        "subgroup = subgroup[subgroup.Ground_Truth_Sentiment != 8]\n",
        "subgroup = subgroup[subgroup.Ground_Truth_Sentiment != 9]\n",
        "subgroup = subgroup[subgroup.Ground_Truth_Sentiment != 10]"
      ],
      "execution_count": null,
      "outputs": []
    },
    {
      "cell_type": "code",
      "metadata": {
        "id": "jetR2B4zqLp9",
        "colab_type": "code",
        "colab": {}
      },
      "source": [
        "subgroup['Ground_Truth_Sentiment'] = subgroup['Ground_Truth_Sentiment'].replace(1, 0)\n",
        "subgroup['Ground_Truth_Sentiment'] = subgroup['Ground_Truth_Sentiment'].replace(2, 0)"
      ],
      "execution_count": null,
      "outputs": []
    },
    {
      "cell_type": "code",
      "metadata": {
        "id": "M9umXxvtqsre",
        "colab_type": "code",
        "colab": {}
      },
      "source": [
        "subgroup['Ground_Truth_Sentiment'] = subgroup['Ground_Truth_Sentiment'].replace(4, 2)\n",
        "subgroup['Ground_Truth_Sentiment'] = subgroup['Ground_Truth_Sentiment'].replace(5, 2)"
      ],
      "execution_count": null,
      "outputs": []
    },
    {
      "cell_type": "code",
      "metadata": {
        "id": "vffCSJOUqcaf",
        "colab_type": "code",
        "colab": {}
      },
      "source": [
        "subgroup['Ground_Truth_Sentiment'] = subgroup['Ground_Truth_Sentiment'].replace(3, 1)"
      ],
      "execution_count": null,
      "outputs": []
    },
    {
      "cell_type": "code",
      "metadata": {
        "id": "PbKkIsE5Ssjw",
        "colab_type": "code",
        "colab": {
          "base_uri": "https://localhost:8080/",
          "height": 85
        },
        "outputId": "4a62c477-ecd5-439b-c4f2-795c230368b9"
      },
      "source": [
        "subgroup['Ground_Truth_Sentiment'].value_counts()"
      ],
      "execution_count": null,
      "outputs": [
        {
          "output_type": "execute_result",
          "data": {
            "text/plain": [
              "2    70120\n",
              "1     8069\n",
              "0     1832\n",
              "Name: Ground_Truth_Sentiment, dtype: int64"
            ]
          },
          "metadata": {
            "tags": []
          },
          "execution_count": 22
        }
      ]
    },
    {
      "cell_type": "markdown",
      "metadata": {
        "id": "jJaXX31weK_b",
        "colab_type": "text"
      },
      "source": [
        "Apply preprocess"
      ]
    },
    {
      "cell_type": "code",
      "metadata": {
        "id": "u69sP-9RRAS0",
        "colab_type": "code",
        "colab": {}
      },
      "source": [
        "subgroup['processed'] = subgroup['Text'].apply(preProcess)"
      ],
      "execution_count": null,
      "outputs": []
    },
    {
      "cell_type": "code",
      "metadata": {
        "id": "wqqPI-GDRZ4H",
        "colab_type": "code",
        "colab": {}
      },
      "source": [
        "x_raw = subgroup['processed'].values.tolist()"
      ],
      "execution_count": null,
      "outputs": []
    },
    {
      "cell_type": "code",
      "metadata": {
        "id": "zn26W1U6Vk5c",
        "colab_type": "code",
        "colab": {}
      },
      "source": [
        "bigram_mod = create_bigrams(x_raw)\n",
        "x = [bigram_mod[line] for line in x_raw]\n",
        "\n",
        "x_train = [' '.join(i) for i in x]"
      ],
      "execution_count": null,
      "outputs": []
    },
    {
      "cell_type": "code",
      "metadata": {
        "id": "rvXfGS2DeO-J",
        "colab_type": "code",
        "colab": {
          "base_uri": "https://localhost:8080/",
          "height": 34
        },
        "outputId": "ad60cbbf-647b-4d75-da69-a0f905437d97"
      },
      "source": [
        "print(len(x_train))"
      ],
      "execution_count": null,
      "outputs": [
        {
          "output_type": "stream",
          "text": [
            "80021\n"
          ],
          "name": "stdout"
        }
      ]
    },
    {
      "cell_type": "markdown",
      "metadata": {
        "id": "_3XMWXJkeN3M",
        "colab_type": "text"
      },
      "source": [
        "Create dictionary"
      ]
    },
    {
      "cell_type": "code",
      "metadata": {
        "id": "K8GbAERzcBxU",
        "colab_type": "code",
        "colab": {}
      },
      "source": [
        "from keras.preprocessing import text\n",
        "from keras.utils import np_utils\n",
        "from keras_preprocessing import sequence\n",
        "\n",
        "tokenizer = text.Tokenizer()\n",
        "tokenizer.fit_on_texts(x_train)\n",
        "\n",
        "#create dictionary to map words with ids\n",
        "word2idx = tokenizer.word_index\n",
        "word2idx['PAD'] = 0\n",
        "\n",
        "#create dictionary to map ids with words2\n",
        "idx2word = {v:k for k, v in word2idx.items()}\n",
        "word_ids = [[word2idx[w] for w in text.text_to_word_sequence(doc)] for doc in x_train]\n",
        "\n",
        "\n",
        "vocab_size = len(word2idx) + 1\n",
        "embed_size = 100"
      ],
      "execution_count": null,
      "outputs": []
    },
    {
      "cell_type": "markdown",
      "metadata": {
        "id": "spMZBbjbUdcn",
        "colab_type": "text"
      },
      "source": [
        "Load Trained Word Embeddings"
      ]
    },
    {
      "cell_type": "code",
      "metadata": {
        "id": "bgkvyLVLkyqv",
        "colab_type": "code",
        "colab": {}
      },
      "source": [
        "#word2vec file name\n",
        "fpath = '/content/drive/My Drive/Final Project MSC AI/result/word2vec/word2vec.h5'"
      ],
      "execution_count": null,
      "outputs": []
    },
    {
      "cell_type": "code",
      "metadata": {
        "id": "K9pdZHV6R2Xv",
        "colab_type": "code",
        "colab": {}
      },
      "source": [
        "from keras.models import load_model\n",
        "model2 = load_model(fpath)"
      ],
      "execution_count": null,
      "outputs": []
    },
    {
      "cell_type": "code",
      "metadata": {
        "id": "2L37Ez77d0vu",
        "colab_type": "code",
        "colab": {}
      },
      "source": [
        "word_embeddings = model2.get_layer('target_embed_layer').get_weights()[0][1:]"
      ],
      "execution_count": null,
      "outputs": []
    },
    {
      "cell_type": "code",
      "metadata": {
        "id": "qWi1Gev1HW3w",
        "colab_type": "code",
        "colab": {}
      },
      "source": [
        "embeddings_index = {w:word_embeddings[idx] for w, idx in word2idx.items()}"
      ],
      "execution_count": null,
      "outputs": []
    },
    {
      "cell_type": "code",
      "metadata": {
        "id": "hS9KBoEXr2EW",
        "colab_type": "code",
        "colab": {}
      },
      "source": [
        "from numpy import zeros\n",
        "\n",
        "embedding_matrix = zeros((vocab_size, 100))\n",
        "for word, i in word2idx.items():\n",
        "\n",
        "    embedding_matrix[i, :] = embeddings_index[word]\n"
      ],
      "execution_count": null,
      "outputs": []
    },
    {
      "cell_type": "code",
      "metadata": {
        "id": "B3T_ET0ZOfte",
        "colab_type": "code",
        "colab": {}
      },
      "source": [
        "embeddingLayer = Embedding(vocab_size, embed_size, weights=[embedding_matrix], trainable=True)"
      ],
      "execution_count": null,
      "outputs": []
    },
    {
      "cell_type": "code",
      "metadata": {
        "id": "l8Ac1r0wUvWy",
        "colab_type": "code",
        "colab": {}
      },
      "source": [
        ""
      ],
      "execution_count": null,
      "outputs": []
    },
    {
      "cell_type": "markdown",
      "metadata": {
        "id": "JphBIFc-Uvt5",
        "colab_type": "text"
      },
      "source": [
        "Prepare data for Keras"
      ]
    },
    {
      "cell_type": "code",
      "metadata": {
        "id": "veCTigxjGsjs",
        "colab_type": "code",
        "colab": {}
      },
      "source": [
        "from keras.utils import to_categorical\n",
        "\n",
        "Y_train = to_categorical(subgroup['Ground_Truth_Sentiment'].values)"
      ],
      "execution_count": null,
      "outputs": []
    },
    {
      "cell_type": "code",
      "metadata": {
        "id": "PMyvna-sSTS6",
        "colab_type": "code",
        "colab": {}
      },
      "source": [
        "#from keras.preprocessing.text import Tokenizer\n",
        "tokenizer.fit_on_texts(x_train)\n",
        "X_train = tokenizer.texts_to_sequences(x_train)"
      ],
      "execution_count": null,
      "outputs": []
    },
    {
      "cell_type": "code",
      "metadata": {
        "id": "0YeWD1oRvvbi",
        "colab_type": "code",
        "colab": {}
      },
      "source": [
        "#padding\n",
        "from keras.preprocessing.sequence import pad_sequences\n",
        "MAXIMUM_LENGTH = 500\n",
        "EMBED_SIZE = 100\n",
        "\n",
        "train_data = sequence.pad_sequences(X_train, maxlen=MAXIMUM_LENGTH)\n",
        "#test_data = sequence.pad_sequences(X_test, maxlen=MAXIMUM_LENGTH)"
      ],
      "execution_count": null,
      "outputs": []
    },
    {
      "cell_type": "markdown",
      "metadata": {
        "id": "vNgm0Yk7ebTf",
        "colab_type": "text"
      },
      "source": [
        "Splitting training and testing data"
      ]
    },
    {
      "cell_type": "code",
      "metadata": {
        "id": "aDc1hHYUr1_6",
        "colab_type": "code",
        "colab": {}
      },
      "source": [
        "from sklearn.model_selection import train_test_split\n",
        "X_train, X_test, y_train, y_test = train_test_split(train_data, Y_train, test_size=0.1)"
      ],
      "execution_count": null,
      "outputs": []
    },
    {
      "cell_type": "code",
      "metadata": {
        "id": "3eoA3pPpPDo9",
        "colab_type": "code",
        "colab": {}
      },
      "source": [
        ""
      ],
      "execution_count": null,
      "outputs": []
    },
    {
      "cell_type": "markdown",
      "metadata": {
        "id": "L3fV_NRgVG0a",
        "colab_type": "text"
      },
      "source": [
        "Define Model"
      ]
    },
    {
      "cell_type": "code",
      "metadata": {
        "id": "Irp5D9qvOVAK",
        "colab_type": "code",
        "colab": {
          "base_uri": "https://localhost:8080/",
          "height": 54
        },
        "outputId": "72a99b25-6e94-410d-95ff-3c42121a29fd"
      },
      "source": [
        "model = Sequential()\n",
        "model.add(embeddingLayer)\n",
        "model.add(SpatialDropout1D(0.5))\n",
        "model.add(LSTM(100, dropout=0.5, recurrent_dropout=0.5))\n",
        "#model.add(LSTM(64,dropout=0.4, recurrent_dropout=0.4,return_sequences=True))\n",
        "#model.add(LSTM(32,dropout=0.5, recurrent_dropout=0.5,return_sequences=False))\n",
        "model.add(Dense(3, activation='softmax'))\n",
        "model.compile(loss='categorical_crossentropy', optimizer='adam', metrics=['accuracy'])"
      ],
      "execution_count": null,
      "outputs": [
        {
          "output_type": "stream",
          "text": [
            "WARNING:tensorflow:Layer lstm will not use cuDNN kernel since it doesn't meet the cuDNN kernel criteria. It will use generic GPU kernel as fallback when running on GPU\n"
          ],
          "name": "stdout"
        }
      ]
    },
    {
      "cell_type": "code",
      "metadata": {
        "id": "kZ8jcu6JTpE5",
        "colab_type": "code",
        "colab": {}
      },
      "source": [
        "#model.load_weights(\"weights.best.hdf5\")"
      ],
      "execution_count": null,
      "outputs": []
    },
    {
      "cell_type": "code",
      "metadata": {
        "id": "fDdhdmuuOVeo",
        "colab_type": "code",
        "colab": {
          "base_uri": "https://localhost:8080/",
          "height": 289
        },
        "outputId": "0bbc689c-9a5d-40b6-cdf0-0879801492ee"
      },
      "source": [
        "model.summary()"
      ],
      "execution_count": null,
      "outputs": [
        {
          "output_type": "stream",
          "text": [
            "Model: \"sequential\"\n",
            "_________________________________________________________________\n",
            "Layer (type)                 Output Shape              Param #   \n",
            "=================================================================\n",
            "embedding (Embedding)        (None, None, 100)         1497300   \n",
            "_________________________________________________________________\n",
            "spatial_dropout1d (SpatialDr (None, None, 100)         0         \n",
            "_________________________________________________________________\n",
            "lstm (LSTM)                  (None, 100)               80400     \n",
            "_________________________________________________________________\n",
            "dense (Dense)                (None, 3)                 303       \n",
            "=================================================================\n",
            "Total params: 1,578,003\n",
            "Trainable params: 1,578,003\n",
            "Non-trainable params: 0\n",
            "_________________________________________________________________\n"
          ],
          "name": "stdout"
        }
      ]
    },
    {
      "cell_type": "code",
      "metadata": {
        "id": "5ToPGWwgx89g",
        "colab_type": "code",
        "colab": {}
      },
      "source": [
        "X_valid, y_valid = X_train[:500], y_train[:500]\n",
        "X_train, y_train = X_train[500:], y_train[500:]"
      ],
      "execution_count": null,
      "outputs": []
    },
    {
      "cell_type": "code",
      "metadata": {
        "id": "DVuZsEEU3jWh",
        "colab_type": "code",
        "colab": {}
      },
      "source": [
        "from keras.callbacks import ModelCheckpoint\n",
        "from keras.callbacks import EarlyStopping\n",
        "\n",
        "filepath=\"weights-improvement-{epoch:02d}-{val_accuracy:.2f}.hdf5\"\n",
        "earlyStopping = EarlyStopping(monitor='val_loss', patience=10, verbose=1, mode='min')\n",
        "mcp_save = ModelCheckpoint(filepath, save_best_only=True, monitor='val_accuracy', mode='max')"
      ],
      "execution_count": null,
      "outputs": []
    },
    {
      "cell_type": "code",
      "metadata": {
        "id": "nWh5DWdeQ3oc",
        "colab_type": "code",
        "colab": {
          "base_uri": "https://localhost:8080/",
          "height": 357
        },
        "outputId": "6ad58927-02d6-4c32-c259-c58f8e5b51dd"
      },
      "source": [
        "batch_size = 100\n",
        "num_epochs = 10\n",
        "\n",
        "history = model.fit(X_train, y_train, validation_data=(X_valid, y_valid), batch_size=batch_size, epochs=num_epochs, callbacks=[earlyStopping, mcp_save], shuffle=True)"
      ],
      "execution_count": null,
      "outputs": [
        {
          "output_type": "stream",
          "text": [
            "Epoch 1/10\n",
            "716/716 [==============================] - 1247s 2s/step - loss: 0.4120 - accuracy: 0.8745 - val_loss: 0.3635 - val_accuracy: 0.8820\n",
            "Epoch 2/10\n",
            "716/716 [==============================] - 1242s 2s/step - loss: 0.3696 - accuracy: 0.8758 - val_loss: 0.3559 - val_accuracy: 0.8840\n",
            "Epoch 3/10\n",
            "716/716 [==============================] - 1245s 2s/step - loss: 0.3555 - accuracy: 0.8762 - val_loss: 0.3569 - val_accuracy: 0.8840\n",
            "Epoch 4/10\n",
            "716/716 [==============================] - 1289s 2s/step - loss: 0.3447 - accuracy: 0.8772 - val_loss: 0.3633 - val_accuracy: 0.8840\n",
            "Epoch 5/10\n",
            "716/716 [==============================] - 1299s 2s/step - loss: 0.3355 - accuracy: 0.8791 - val_loss: 0.3653 - val_accuracy: 0.8820\n",
            "Epoch 6/10\n",
            "716/716 [==============================] - 1308s 2s/step - loss: 0.3290 - accuracy: 0.8811 - val_loss: 0.3754 - val_accuracy: 0.8720\n",
            "Epoch 7/10\n",
            "716/716 [==============================] - 1306s 2s/step - loss: 0.3196 - accuracy: 0.8855 - val_loss: 0.3837 - val_accuracy: 0.8660\n",
            "Epoch 8/10\n",
            "716/716 [==============================] - 1329s 2s/step - loss: 0.3119 - accuracy: 0.8893 - val_loss: 0.3940 - val_accuracy: 0.8760\n",
            "Epoch 9/10\n",
            "716/716 [==============================] - 1318s 2s/step - loss: 0.3042 - accuracy: 0.8919 - val_loss: 0.3877 - val_accuracy: 0.8700\n",
            "Epoch 10/10\n",
            "716/716 [==============================] - 1333s 2s/step - loss: 0.2971 - accuracy: 0.8961 - val_loss: 0.3970 - val_accuracy: 0.8680\n"
          ],
          "name": "stdout"
        }
      ]
    },
    {
      "cell_type": "code",
      "metadata": {
        "id": "0Fk8JP3N6KVl",
        "colab_type": "code",
        "colab": {}
      },
      "source": [
        "from keras.models import load_model\n",
        "\n",
        "model.save('largest.h5')\n",
        "\n",
        "# returns a compiled model\n",
        "# identical to the previous one\n",
        "#model = load_model('my_model.h5')"
      ],
      "execution_count": null,
      "outputs": []
    },
    {
      "cell_type": "code",
      "metadata": {
        "id": "f8PTXZfAenDr",
        "colab_type": "code",
        "colab": {}
      },
      "source": [
        ""
      ],
      "execution_count": null,
      "outputs": []
    },
    {
      "cell_type": "code",
      "metadata": {
        "id": "HyCOuYJkenMY",
        "colab_type": "code",
        "colab": {}
      },
      "source": [
        ""
      ],
      "execution_count": null,
      "outputs": []
    },
    {
      "cell_type": "code",
      "metadata": {
        "id": "X3fTb_eGenLA",
        "colab_type": "code",
        "colab": {}
      },
      "source": [
        ""
      ],
      "execution_count": null,
      "outputs": []
    },
    {
      "cell_type": "markdown",
      "metadata": {
        "id": "I6lwg0oFeozM",
        "colab_type": "text"
      },
      "source": [
        "Visualisation of results"
      ]
    },
    {
      "cell_type": "code",
      "metadata": {
        "id": "7Vi5FMPLOVQd",
        "colab_type": "code",
        "colab": {
          "base_uri": "https://localhost:8080/",
          "height": 486
        },
        "outputId": "82a961c1-1cd6-4101-8c14-d7249e378faa"
      },
      "source": [
        "from keras.utils import plot_model\n",
        "from IPython.display import SVG\n",
        "from keras.utils import vis_utils\n",
        "SVG(vis_utils.model_to_dot(model, show_shapes=True, show_layer_names=True, dpi=65).create(prog='dot', format='svg'))"
      ],
      "execution_count": null,
      "outputs": [
        {
          "output_type": "execute_result",
          "data": {
            "text/plain": [
              "<IPython.core.display.SVG object>"
            ],
            "image/svg+xml": "<svg height=\"349pt\" viewBox=\"0.00 0.00 390.00 387.00\" width=\"352pt\" xmlns=\"http://www.w3.org/2000/svg\" xmlns:xlink=\"http://www.w3.org/1999/xlink\">\n<g class=\"graph\" id=\"graph0\" transform=\"scale(.9028 .9028) rotate(0) translate(4 383)\">\n<title>G</title>\n<polygon fill=\"#ffffff\" points=\"-4,4 -4,-383 386,-383 386,4 -4,4\" stroke=\"transparent\"/>\n<!-- 140432704849792 -->\n<g class=\"node\" id=\"node1\">\n<title>140432704849792</title>\n<polygon fill=\"none\" points=\"40,-332.5 40,-378.5 342,-378.5 342,-332.5 40,-332.5\" stroke=\"#000000\"/>\n<text fill=\"#000000\" font-family=\"Times,serif\" font-size=\"14.00\" text-anchor=\"middle\" x=\"135\" y=\"-351.8\">embedding_input: InputLayer</text>\n<polyline fill=\"none\" points=\"230,-332.5 230,-378.5 \" stroke=\"#000000\"/>\n<text fill=\"#000000\" font-family=\"Times,serif\" font-size=\"14.00\" text-anchor=\"middle\" x=\"259\" y=\"-363.3\">input:</text>\n<polyline fill=\"none\" points=\"230,-355.5 288,-355.5 \" stroke=\"#000000\"/>\n<text fill=\"#000000\" font-family=\"Times,serif\" font-size=\"14.00\" text-anchor=\"middle\" x=\"259\" y=\"-340.3\">output:</text>\n<polyline fill=\"none\" points=\"288,-332.5 288,-378.5 \" stroke=\"#000000\"/>\n<text fill=\"#000000\" font-family=\"Times,serif\" font-size=\"14.00\" text-anchor=\"middle\" x=\"315\" y=\"-363.3\">[(?, ?)]</text>\n<polyline fill=\"none\" points=\"288,-355.5 342,-355.5 \" stroke=\"#000000\"/>\n<text fill=\"#000000\" font-family=\"Times,serif\" font-size=\"14.00\" text-anchor=\"middle\" x=\"315\" y=\"-340.3\">[(?, ?)]</text>\n</g>\n<!-- 140432755275592 -->\n<g class=\"node\" id=\"node2\">\n<title>140432755275592</title>\n<polygon fill=\"none\" points=\"46.5,-249.5 46.5,-295.5 335.5,-295.5 335.5,-249.5 46.5,-249.5\" stroke=\"#000000\"/>\n<text fill=\"#000000\" font-family=\"Times,serif\" font-size=\"14.00\" text-anchor=\"middle\" x=\"124.5\" y=\"-268.8\">embedding: Embedding</text>\n<polyline fill=\"none\" points=\"202.5,-249.5 202.5,-295.5 \" stroke=\"#000000\"/>\n<text fill=\"#000000\" font-family=\"Times,serif\" font-size=\"14.00\" text-anchor=\"middle\" x=\"231.5\" y=\"-280.3\">input:</text>\n<polyline fill=\"none\" points=\"202.5,-272.5 260.5,-272.5 \" stroke=\"#000000\"/>\n<text fill=\"#000000\" font-family=\"Times,serif\" font-size=\"14.00\" text-anchor=\"middle\" x=\"231.5\" y=\"-257.3\">output:</text>\n<polyline fill=\"none\" points=\"260.5,-249.5 260.5,-295.5 \" stroke=\"#000000\"/>\n<text fill=\"#000000\" font-family=\"Times,serif\" font-size=\"14.00\" text-anchor=\"middle\" x=\"298\" y=\"-280.3\">(?, ?)</text>\n<polyline fill=\"none\" points=\"260.5,-272.5 335.5,-272.5 \" stroke=\"#000000\"/>\n<text fill=\"#000000\" font-family=\"Times,serif\" font-size=\"14.00\" text-anchor=\"middle\" x=\"298\" y=\"-257.3\">(?, ?, 100)</text>\n</g>\n<!-- 140432704849792&#45;&gt;140432755275592 -->\n<g class=\"edge\" id=\"edge1\">\n<title>140432704849792-&gt;140432755275592</title>\n<path d=\"M191,-332.3799C191,-324.1745 191,-314.7679 191,-305.8786\" fill=\"none\" stroke=\"#000000\"/>\n<polygon fill=\"#000000\" points=\"194.5001,-305.784 191,-295.784 187.5001,-305.784 194.5001,-305.784\" stroke=\"#000000\"/>\n</g>\n<!-- 140432704850688 -->\n<g class=\"node\" id=\"node3\">\n<title>140432704850688</title>\n<polygon fill=\"none\" points=\"0,-166.5 0,-212.5 382,-212.5 382,-166.5 0,-166.5\" stroke=\"#000000\"/>\n<text fill=\"#000000\" font-family=\"Times,serif\" font-size=\"14.00\" text-anchor=\"middle\" x=\"124.5\" y=\"-185.8\">spatial_dropout1d_1: SpatialDropout1D</text>\n<polyline fill=\"none\" points=\"249,-166.5 249,-212.5 \" stroke=\"#000000\"/>\n<text fill=\"#000000\" font-family=\"Times,serif\" font-size=\"14.00\" text-anchor=\"middle\" x=\"278\" y=\"-197.3\">input:</text>\n<polyline fill=\"none\" points=\"249,-189.5 307,-189.5 \" stroke=\"#000000\"/>\n<text fill=\"#000000\" font-family=\"Times,serif\" font-size=\"14.00\" text-anchor=\"middle\" x=\"278\" y=\"-174.3\">output:</text>\n<polyline fill=\"none\" points=\"307,-166.5 307,-212.5 \" stroke=\"#000000\"/>\n<text fill=\"#000000\" font-family=\"Times,serif\" font-size=\"14.00\" text-anchor=\"middle\" x=\"344.5\" y=\"-197.3\">(?, ?, 100)</text>\n<polyline fill=\"none\" points=\"307,-189.5 382,-189.5 \" stroke=\"#000000\"/>\n<text fill=\"#000000\" font-family=\"Times,serif\" font-size=\"14.00\" text-anchor=\"middle\" x=\"344.5\" y=\"-174.3\">(?, ?, 100)</text>\n</g>\n<!-- 140432755275592&#45;&gt;140432704850688 -->\n<g class=\"edge\" id=\"edge2\">\n<title>140432755275592-&gt;140432704850688</title>\n<path d=\"M191,-249.3799C191,-241.1745 191,-231.7679 191,-222.8786\" fill=\"none\" stroke=\"#000000\"/>\n<polygon fill=\"#000000\" points=\"194.5001,-222.784 191,-212.784 187.5001,-222.784 194.5001,-222.784\" stroke=\"#000000\"/>\n</g>\n<!-- 140432704850856 -->\n<g class=\"node\" id=\"node4\">\n<title>140432704850856</title>\n<polygon fill=\"none\" points=\"73.5,-83.5 73.5,-129.5 308.5,-129.5 308.5,-83.5 73.5,-83.5\" stroke=\"#000000\"/>\n<text fill=\"#000000\" font-family=\"Times,serif\" font-size=\"14.00\" text-anchor=\"middle\" x=\"124.5\" y=\"-102.8\">lstm_1: LSTM</text>\n<polyline fill=\"none\" points=\"175.5,-83.5 175.5,-129.5 \" stroke=\"#000000\"/>\n<text fill=\"#000000\" font-family=\"Times,serif\" font-size=\"14.00\" text-anchor=\"middle\" x=\"204.5\" y=\"-114.3\">input:</text>\n<polyline fill=\"none\" points=\"175.5,-106.5 233.5,-106.5 \" stroke=\"#000000\"/>\n<text fill=\"#000000\" font-family=\"Times,serif\" font-size=\"14.00\" text-anchor=\"middle\" x=\"204.5\" y=\"-91.3\">output:</text>\n<polyline fill=\"none\" points=\"233.5,-83.5 233.5,-129.5 \" stroke=\"#000000\"/>\n<text fill=\"#000000\" font-family=\"Times,serif\" font-size=\"14.00\" text-anchor=\"middle\" x=\"271\" y=\"-114.3\">(?, ?, 100)</text>\n<polyline fill=\"none\" points=\"233.5,-106.5 308.5,-106.5 \" stroke=\"#000000\"/>\n<text fill=\"#000000\" font-family=\"Times,serif\" font-size=\"14.00\" text-anchor=\"middle\" x=\"271\" y=\"-91.3\">(?, 100)</text>\n</g>\n<!-- 140432704850688&#45;&gt;140432704850856 -->\n<g class=\"edge\" id=\"edge3\">\n<title>140432704850688-&gt;140432704850856</title>\n<path d=\"M191,-166.3799C191,-158.1745 191,-148.7679 191,-139.8786\" fill=\"none\" stroke=\"#000000\"/>\n<polygon fill=\"#000000\" points=\"194.5001,-139.784 191,-129.784 187.5001,-139.784 194.5001,-139.784\" stroke=\"#000000\"/>\n</g>\n<!-- 140432704960832 -->\n<g class=\"node\" id=\"node5\">\n<title>140432704960832</title>\n<polygon fill=\"none\" points=\"77.5,-.5 77.5,-46.5 304.5,-46.5 304.5,-.5 77.5,-.5\" stroke=\"#000000\"/>\n<text fill=\"#000000\" font-family=\"Times,serif\" font-size=\"14.00\" text-anchor=\"middle\" x=\"131\" y=\"-19.8\">dense_1: Dense</text>\n<polyline fill=\"none\" points=\"184.5,-.5 184.5,-46.5 \" stroke=\"#000000\"/>\n<text fill=\"#000000\" font-family=\"Times,serif\" font-size=\"14.00\" text-anchor=\"middle\" x=\"213.5\" y=\"-31.3\">input:</text>\n<polyline fill=\"none\" points=\"184.5,-23.5 242.5,-23.5 \" stroke=\"#000000\"/>\n<text fill=\"#000000\" font-family=\"Times,serif\" font-size=\"14.00\" text-anchor=\"middle\" x=\"213.5\" y=\"-8.3\">output:</text>\n<polyline fill=\"none\" points=\"242.5,-.5 242.5,-46.5 \" stroke=\"#000000\"/>\n<text fill=\"#000000\" font-family=\"Times,serif\" font-size=\"14.00\" text-anchor=\"middle\" x=\"273.5\" y=\"-31.3\">(?, 100)</text>\n<polyline fill=\"none\" points=\"242.5,-23.5 304.5,-23.5 \" stroke=\"#000000\"/>\n<text fill=\"#000000\" font-family=\"Times,serif\" font-size=\"14.00\" text-anchor=\"middle\" x=\"273.5\" y=\"-8.3\">(?, 3)</text>\n</g>\n<!-- 140432704850856&#45;&gt;140432704960832 -->\n<g class=\"edge\" id=\"edge4\">\n<title>140432704850856-&gt;140432704960832</title>\n<path d=\"M191,-83.3799C191,-75.1745 191,-65.7679 191,-56.8786\" fill=\"none\" stroke=\"#000000\"/>\n<polygon fill=\"#000000\" points=\"194.5001,-56.784 191,-46.784 187.5001,-56.784 194.5001,-56.784\" stroke=\"#000000\"/>\n</g>\n</g>\n</svg>"
          },
          "metadata": {
            "tags": []
          },
          "execution_count": 59
        }
      ]
    },
    {
      "cell_type": "code",
      "metadata": {
        "id": "laDbyO2-uQJo",
        "colab_type": "code",
        "colab": {
          "base_uri": "https://localhost:8080/",
          "height": 573
        },
        "outputId": "73be71b3-3c78-4f59-eeac-8a9a2e2eca06"
      },
      "source": [
        "import matplotlib.pyplot as plt\n",
        "\n",
        "history_dict = history.history\n",
        "\n",
        "acc = history_dict['accuracy']\n",
        "val_acc = history_dict['val_accuracy']\n",
        "loss = history_dict['loss']\n",
        "val_loss = history_dict['val_loss']\n",
        "\n",
        "epochs = range(1, len(acc) + 1)\n",
        "\n",
        "plt.plot(epochs, acc, 'bo', label='Training acc')\n",
        "plt.plot(epochs, val_acc, 'b', label='Validation acc')\n",
        "plt.title('Training and validation accuracy')\n",
        "plt.xlabel('Epochs')\n",
        "plt.ylabel('Accuracy')\n",
        "plt.legend()\n",
        "\n",
        "plt.show()"
      ],
      "execution_count": null,
      "outputs": [
        {
          "output_type": "display_data",
          "data": {
            "image/png": "[encoded data removed]",
            "text/plain": [
              "<Figure size 432x288 with 1 Axes>"
            ]
          },
          "metadata": {
            "tags": [],
            "needs_background": "light"
          }
        },
        {
          "output_type": "display_data",
          "data": {
            "image/png": "[encoded data removed]",
            "text/plain": [
              "<Figure size 432x288 with 1 Axes>"
            ]
          },
          "metadata": {
            "tags": [],
            "needs_background": "light"
          }
        }
      ]
    },
    {
      "cell_type": "code",
      "metadata": {
        "id": "MuWBHIaoOYyK",
        "colab_type": "code",
        "colab": {
          "base_uri": "https://localhost:8080/",
          "height": 573
        },
        "outputId": "a0fa579e-4963-418d-aa0a-beb227af34f6"
      },
      "source": [
        "plt.plot(epochs, loss, 'bo', label='Training loss')\n",
        "plt.plot(epochs, val_loss, 'b', label='Validation loss')\n",
        "plt.title('Training and validation loss')\n",
        "plt.xlabel('Epochs')\n",
        "plt.ylabel('Loss')\n",
        "plt.legend()\n",
        "\n",
        "plt.show()"
      ],
      "execution_count": null,
      "outputs": [
        {
          "output_type": "display_data",
          "data": {
            "image/png": "[encoded data removed]",
            "text/plain": [
              "<Figure size 432x288 with 1 Axes>"
            ]
          },
          "metadata": {
            "tags": [],
            "needs_background": "light"
          }
        },
        {
          "output_type": "display_data",
          "data": {
            "image/png": "[encoded data removed]",
            "text/plain": [
              "<Figure size 432x288 with 1 Axes>"
            ]
          },
          "metadata": {
            "tags": [],
            "needs_background": "light"
          }
        }
      ]
    },
    {
      "cell_type": "code",
      "metadata": {
        "id": "_JvA8xqHuQhy",
        "colab_type": "code",
        "colab": {
          "base_uri": "https://localhost:8080/",
          "height": 85
        },
        "outputId": "2a869189-75f9-4188-df79-ee69bc9f9859"
      },
      "source": [
        "results = model.evaluate(X_test, y_test)\n",
        "print('test_loss:', results[0], 'test_accuracy:', results[1])"
      ],
      "execution_count": null,
      "outputs": [
        {
          "output_type": "stream",
          "text": [
            "251/251 [==============================] - 31s 123ms/step - loss: 0.4080 - accuracy: 0.8604\n",
            "test_loss: 0.40795132517814636 test_accuracy: 0.8604273200035095\n",
            "251/251 [==============================] - 31s 122ms/step - loss: 0.4080 - accuracy: 0.8604\n",
            "test_loss: 0.40795132517814636 test_accuracy: 0.8604273200035095\n"
          ],
          "name": "stdout"
        }
      ]
    },
    {
      "cell_type": "code",
      "metadata": {
        "id": "gWizhNYkuQfF",
        "colab_type": "code",
        "colab": {}
      },
      "source": [
        ""
      ],
      "execution_count": null,
      "outputs": []
    },
    {
      "cell_type": "code",
      "metadata": {
        "id": "pxIxL9A2uQcQ",
        "colab_type": "code",
        "colab": {}
      },
      "source": [
        ""
      ],
      "execution_count": null,
      "outputs": []
    },
    {
      "cell_type": "markdown",
      "metadata": {
        "id": "tlD17vlapiJz",
        "colab_type": "text"
      },
      "source": [
        "Create table with prediction"
      ]
    },
    {
      "cell_type": "code",
      "metadata": {
        "id": "9e8mOmQMiIOp",
        "colab_type": "code",
        "colab": {}
      },
      "source": [
        "tokenizer.fit_on_texts(x_train)\n",
        "a = tokenizer.texts_to_sequences(x_train)\n",
        "b = sequence.pad_sequences(a, maxlen=MAXIMUM_LENGTH)\n"
      ],
      "execution_count": null,
      "outputs": []
    },
    {
      "cell_type": "code",
      "metadata": {
        "id": "va822TpThya7",
        "colab_type": "code",
        "colab": {
          "base_uri": "https://localhost:8080/",
          "height": 34
        },
        "outputId": "960821f3-ce23-4557-f06e-28b9f0f38090"
      },
      "source": [
        "subgroup['Prediction'] = model.predict_classes(b, batch_size=batch_size, verbose=1)"
      ],
      "execution_count": null,
      "outputs": [
        {
          "output_type": "stream",
          "text": [
            "801/801 [==============================] - 100s 125ms/step\n"
          ],
          "name": "stdout"
        }
      ]
    },
    {
      "cell_type": "code",
      "metadata": {
        "id": "hUtP3_EijKZW",
        "colab_type": "code",
        "colab": {}
      },
      "source": [
        "subgroup = subgroup.drop(columns='processed')"
      ],
      "execution_count": null,
      "outputs": []
    },
    {
      "cell_type": "code",
      "metadata": {
        "id": "v81RFxbih0yW",
        "colab_type": "code",
        "colab": {
          "base_uri": "https://localhost:8080/",
          "height": 1000
        },
        "outputId": "529e9209-4efa-45d9-ce2d-faa3628a640c"
      },
      "source": [
        "from IPython.display import display, HTML\n",
        "\n",
        "display(HTML(subgroup.to_html()[:10000]))"
      ],
      "execution_count": null,
      "outputs": [
        {
          "output_type": "display_data",
          "data": {
            "text/html": [
              "<table border=\"1\" class=\"dataframe\">\n",
              "  <thead>\n",
              "    <tr style=\"text-align: right;\">\n",
              "      <th></th>\n",
              "      <th>Text</th>\n",
              "      <th>Topic_assigned</th>\n",
              "      <th>Topic_Percentage</th>\n",
              "      <th>Ground_Truth</th>\n",
              "      <th>Ground_Truth_Sentiment</th>\n",
              "      <th>Prediction</th>\n",
              "    </tr>\n",
              "  </thead>\n",
              "  <tbody>\n",
              "    <tr>\n",
              "      <th>23</th>\n",
              "      <td>family trip ing business district location convenient get connection shopping area tube room nice clean appreciate much reception staff restaurant staff helpful friendly especially lady name eva reception restaurant staff remember drink order 2nd visit bkf welcome enjoy lot</td>\n",
              "      <td>Staff, Location</td>\n",
              "      <td>0.1467</td>\n",
              "      <td>Facilities Cleanliness  Food  Staff Location</td>\n",
              "      <td>2</td>\n",
              "      <td>2</td>\n",
              "    </tr>\n",
              "    <tr>\n",
              "      <th>36</th>\n",
              "      <td>host help every aspect way place nice clean value situate nice area staff friendly</td>\n",
              "      <td>Staff, Location</td>\n",
              "      <td>0.1315</td>\n",
              "      <td>Cleanliness   Price Staff</td>\n",
              "      <td>2</td>\n",
              "      <td>2</td>\n",
              "    </tr>\n",
              "    <tr>\n",
              "      <th>39</th>\n",
              "      <td>cosy small read tiny modern spotlessly clean location service friendly helpful breakfast right wifi free charge reception could well though warmly recommend want decent place</td>\n",
              "      <td>Staff, Location</td>\n",
              "      <td>0.1435</td>\n",
              "      <td>Facilities Cleanliness Comfort Food  Staff Location Service</td>\n",
              "      <td>2</td>\n",
              "      <td>2</td>\n",
              "    </tr>\n",
              "    <tr>\n",
              "      <th>81</th>\n",
              "      <td>friendly attentive personal service staff excellent facility quality standard although small give ample space overnight lovely en_suite tea_coffee tray skimp towel</td>\n",
              "      <td>Staff, Location</td>\n",
              "      <td>0.1434</td>\n",
              "      <td>Facilities   Food  Staff  Service</td>\n",
              "      <td>2</td>\n",
              "      <td>2</td>\n",
              "    </tr>\n",
              "    <tr>\n",
              "      <th>108</th>\n",
              "      <td>good customer service comfortable amenity big tub shower love tea_coffee service extra water staff always available willing_help accommodate staff really top_notch</td>\n",
              "      <td>Staff, Location</td>\n",
              "      <td>0.1472</td>\n",
              "      <td>Facilities  Comfort Food  Staff  Service</td>\n",
              "      <td>2</td>\n",
              "      <td>2</td>\n",
              "    </tr>\n",
              "    <tr>\n",
              "      <th>198</th>\n",
              "      <td>year_ago family must say enjoy staff friendly efficient clean tidy breakfast plentiful convenient service excellent quality price</td>\n",
              "      <td>Staff, Location</td>\n",
              "      <td>0.1588</td>\n",
              "      <td>Facilities Cleanliness  Food Price Staff  Service</td>\n",
              "      <td>2</td>\n",
              "      <td>2</td>\n",
              "    </tr>\n",
              "    <tr>\n",
              "      <th>222</th>\n",
              "      <td>business 10 colleague never sure location property etc awesome staff impeccable every incredibly helpful even last minute request food cocktail location perfect definitely</td>\n",
              "      <td>Staff, Location</td>\n",
              "      <td>0.1371</td>\n",
              "      <td>Food  Staff Location</td>\n",
              "      <td>2</td>\n",
              "      <td>2</td>\n",
              "    </tr>\n",
              "    <tr>\n",
              "      <th>282</th>\n",
              "      <td>location excellent short walk paddington_lancaster gate single basic clean breakfast well staff polite helpful overall would recommend base value safety cleanliness</td>\n",
              "      <td>Staff, Location</td>\n",
              "      <td>0.1559</td>\n",
              "      <td>Facilities Cleanliness  Food Price Staff Location</td>\n",
              "      <td>2</td>\n",
              "      <td>2</td>\n",
              "    </tr>\n",
              "    <tr>\n",
              "      <th>291</th>\n",
              "      <td>nice excellent location right thames reception staff polite helpful room size shower rooftop bar summer tube stop 3 minute walk satisfy</td>\n",
              "      <td>Staff, Location</td>\n",
              "      <td>0.1458</td>\n",
              "      <td>Facilities   Food  Staff Location</td>\n",
              "      <td>2</td>\n",
              "      <td>2</td>\n",
              "    </tr>\n",
              "    <tr>\n",
              "      <th>382</th>\n",
              "      <td>well friendly extremely helpful owner could enough help although compact plenty storage spotlessly clean ed two occasion trip must best value close everything breakfast</td>\n",
              "      <td>Staff, Location</td>\n",
              "      <td>0.1577</td>\n",
              "      <td>Facilities Cleanliness  Food Price Staff</td>\n",
              "      <td>2</td>\n",
              "      <td>2</td>\n",
              "    </tr>\n",
              "    <tr>\n",
              "      <th>433</th>\n",
              "      <td>ed savoy found superb every way good food excellent position mainly helpful staff excellent return happen last visit</td>\n",
              "      <td>Staff, Location</td>\n",
              "      <td>0.1542</td>\n",
              "      <td>Facilities   Food  Staff</td>\n",
              "      <td>2</td>\n",
              "      <td>2</td>\n",
              "    </tr>\n",
              "    <tr>\n",
              "      <th>450</th>\n",
              "      <td>incredible deal centrally_locate clean staff friendly spacious enough especially price would definitely recommend others room face street noisy ask back</td>\n",
              "      <td>Staff, Location</td>\n",
              "      <td>0.1297</td>\n",
              "      <td>Facilities Cleanliness   Price Staff</td>\n",
              "      <td>2</td>\n",
              "      <td>2</td>\n",
              "    </tr>\n",
              "    <tr>\n",
              "      <th>462</th>\n",
              "      <td>really happy amaze especially previous night travelodge staff extremely friendly helpful professional gorgeous clean lovely extra snack dress robe_slipper issue breakfast overcook boil_egg come morning staff kindly charge u mentid fault really highly_recommend look_forward visit</td>\n",
              "      <td>Staff, Location</td>\n",
              "      <td>0.1753</td>\n",
              "      <td>Facilities Cleanliness  Food  Staff</td>\n",
              "      <td>2</td>\n",
              "      <td>2</td>\n",
              "    </tr>\n",
              "    <tr>\n",
              "      <th>480</th>\n",
              "      <td>love nothing fault nice quiet atmosphere friendly helpful staff location really enjoy look_forward go back soon highly_recommend</td>\n",
              "      <td>Staff, Location</td>\n",
              "      <td>0.1692</td>\n",
              "      <td>Facilities     Staff Location</td>\n",
              "      <td>2</td>\n",
              "      <td>2</td>\n",
              "    </tr>\n",
              "    <tr>\n",
              "      <th>529</th>\n",
              "      <td>late several visit rembrandt found staff friendly helpful public area well appoint spotlessly clean breakfast offer wide_selection well prepared hot cold option excellent perfect location ideal visit book</td>\n",
              "      <td>Staff, Location</td>\n",
              "      <td>0.1612</td>\n",
              "      <td>Facilities Cleanliness  Food  Staff Location</td>\n",
              "      <td>2</td>\n",
              "      <td>2</td>\n",
              "    </tr>\n",
              "    <tr>\n",
              "      <th>545</th>\n",
              "      <td>talk much come cleanliness perfect attract come third breakfast nice service course staff professional kind also patient witch important</td>\n",
              "      <td>Staff, Location</td>\n",
              "      <td>0.1432</td>\n",
              "      <td>Cleanliness  Food  Staff  Service</td>\n",
              "      <td>2</td>\n",
              "      <td>2</td>\n",
              "    </tr>\n",
              "    <tr>\n",
              "      <th>563</th>\n",
              "      <td>thank rembrandt brilliant staff friendly reservation team really helpful original book lovely well furnish sure visit</td>\n",
              "      <td>Staff, Location</td>\n",
              "      <td>0.1666</td>\n",
              "      <td>Facilities   Food  Staff  Service</td>\n",
              "      <td>2</td>\n",
              "      <td>2</td>\n",
              "    </tr>\n",
              "    <tr>\n",
              "      <th>577</th>\n",
              "      <td>everything need wi_fi function well kept clean bath small well function shower cabin ventilation breakfast excellent fresh_fruit yoghurt_cheese etc staff breakfast extremely helpful attentive felt like could read mind</td>\n",
              "      <td>Staff, Location</td>\n",
              "      <td>0.1487</td>\n",
              "      <td>Facilities Cleanliness  Food  Staff</td>\n",
              "      <td>2</td>\n",
              "      <td>2</td>\n",
              "    </tr>\n",
              "    <tr>\n",
              "      <th>603</th>\n",
              "      <td>staff mondrian excellent helpful friendly deliver excellent customer service addition well train really look would definitely recommend others</td>\n",
              "      <td>Staff, Location</td>\n",
              "      <td>0.1727</td>\n",
              "      <td>Staff  Service</td>\n",
              "      <td>2</td>\n",
              "      <td>2</td>\n",
              "    </tr>\n",
              "    <tr>\n",
              "      <th>678</th>\n",
              "      <td>conveniently_locate financial_district lovely breakfast incredibly nice helpful staff ticked_box look probably suit people young_child</td>\n",
              "      <td>Staff, Location</td>\n",
              "      <td>0.1442</td>\n",
              "      <td>Facilities   Food  Staff</td>\n",
              "      <td>2</td>\n",
              "      <td>2</td>\n",
              "    </tr>\n",
              "    <tr>\n",
              "      <th>699</th>\n",
              "      <td>exceed_expectation upgraded executive much well worth lovely clean little balcony 105 quiet close earl_court tube staff friendly concierge really helpful nice night away think reasonably_price</td>\n",
              "      <td>Staff, Location</td>\n",
              "      <td>0.1398</td>\n",
              "      <td>Facilities Cleanliness   Price Staff</td>\n",
              "      <td>2</td>\n",
              "      <td>2</td>\n",
              "    </tr>\n",
              "    <tr>\n",
              "      <th>711</th>\n",
              "      <td>fantastic courteous staff lovely lot space room service meal also quality stayed small child could g ly wrong work well night doorman help buggy reception staff pleasant expensive upper bracket luxury</td>\n",
              "      <td>Staff, Location</td>\n",
              "      <td>0.1492</td>\n",
              "      <td>Facilities   Food Price Staff  Service</td>\n",
              "      <td>2</td>\n",
              "      <td>2</td>\n",
              "    </tr>\n",
              "    <tr>\n",
              "      <th>766</th>\n",
              "      <td>come family staff friendly kind courteous really food service excellent boot yes expensive mayfair pay get close shopping place</td>\n",
              "      <td>Staff, Location</td>\n",
              "      <td>0.1534</td>\n",
              "      <td>Food Price Staff  Service</td>\n",
              "      <td>2</td>\n",
              "      <td>2</td>\n",
              "    </tr>\n",
              "    <tr>\n",
              "      <th>844</th>\n",
              "      <td>go watch jazz saturday night service excellent drink well price extremely comfortable surround eat menu look appeal public bar excellent however rather lot mess toilet staff fault could perhaps closer monitoring however excellent experience otherwise wonderful staff building patron could try smartening though</td>\n",
              "      <td>Staff, Location</td>\n",
              "      <td>0.1657</td>\n",
              "      <td>Comfort Food Price Staff  Service</td>\n",
              "      <td>2</td>\n",
              "      <td>2</td>\n",
              "    </tr>\n",
              "    <tr>\n",
              "      <th>846</th>\n",
              "      <td>good location business room clean comfortable efficient lovely modern dÃÂ©cor functional friendly service give everything area close location near downtown business area would varied selection food late night din overall nice place helpful staff</td>\n",
              "      <td>Staff, Location</td>\n",
              "      <td>0.1429</td>\n",
              "      <td>Facilities Cleanliness Comfort Food  Staff Location Service</td>\n",
              "      <td>2</td>\n",
              "      <td>2</td>\n",
              "    </tr>\n",
              "    <tr>\n",
              "      <th>861</th>\n",
              "      <td>lovely clean area breakfast excellent really surpass_expectation two star staff serve breakfast efficient still retain cheerful attitude lounge area comfortable free tea_coffee owner happy u leave luggage checkout use sit read whilst wait train selection book borrow owner really knowledgeable helpful direct u towards transport_link advise u local event staff friendly helpful help really special</td>\n",
              "      <td>Staff, Location</td>\n",
              "      <td>0.1610</td>\n",
              "      <td>Facilities Cleanliness Comfort Food  Staff</td>\n",
              "      <td>"
            ],
            "text/plain": [
              "<IPython.core.display.HTML object>"
            ]
          },
          "metadata": {
            "tags": []
          }
        }
      ]
    },
    {
      "cell_type": "code",
      "metadata": {
        "id": "Prt3JDDMjgCV",
        "colab_type": "code",
        "colab": {}
      },
      "source": [
        ""
      ],
      "execution_count": null,
      "outputs": []
    }
  ]
}